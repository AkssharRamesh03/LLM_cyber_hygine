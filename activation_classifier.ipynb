{
 "cells": [
  {
   "cell_type": "code",
   "execution_count": null,
   "id": "4df701b0",
   "metadata": {
    "vscode": {
     "languageId": "plaintext"
    }
   },
   "outputs": [],
   "source": [
    "import torch\n",
    "from torch.utils.data import Dataset\n",
    "import random\n",
    "import torch.nn as nn\n",
    "import torchvision.models as models\n",
    "from torch.nn import TripletMarginLoss\n",
    "from torch.utils.data import DataLoader\n",
    "import torch.optim as optim"
   ]
  },
  {
   "cell_type": "code",
   "execution_count": null,
   "id": "1e2c8f90",
   "metadata": {
    "vscode": {
     "languageId": "plaintext"
    }
   },
   "outputs": [],
   "source": [
    "non_hallucination_train_activations = torch.load(\"./train_normal_activations.pt\", map_location=torch.device(\"cpu\"), weights_only=True)\n",
    "\n",
    "hallucination_train_activations = pt2 = torch.load(\"./train_attack_activations.pt\", map_location=torch.device(\"cpu\"), weights_only=True)"
   ]
  },
  {
   "cell_type": "code",
   "execution_count": null,
   "id": "b7146c41",
   "metadata": {
    "vscode": {
     "languageId": "plaintext"
    }
   },
   "outputs": [],
   "source": [
    "import torch\n",
    "from torch.utils.data import Dataset\n",
    "\n",
    "class TripletActivationDataset(Dataset):\n",
    "    def __init__(self, real_data, halluc_data, target_shape=4096):\n",
    "        self.triplets = []\n",
    "        self.target_shape = target_shape\n",
    "\n",
    "        for i in range(len(real_data)):  # 35 entries\n",
    "            for j in range(len(real_data[i])):  # 50 tokens\n",
    "                for k in range(len(real_data[i][j])):  # 33 layers\n",
    "                    anchor = real_data[i][j][k][0]\n",
    "                    positive = real_data[i][j][(k+1) % 33][0]\n",
    "                    negative = halluc_data[i][j][k][0]\n",
    "\n",
    "                    # Preprocess each tensor\n",
    "                    anchor = self._standardize(anchor)\n",
    "                    positive = self._standardize(positive)\n",
    "                    negative = self._standardize(negative)\n",
    "\n",
    "                    self.triplets.append((anchor, positive, negative))\n",
    "\n",
    "    def _standardize(self, tensor):\n",
    "        tensor = tensor.squeeze().float()  # <--- add .float() here\n",
    "        if tensor.ndim > 1:\n",
    "            tensor = tensor.view(-1)\n",
    "        if tensor.numel() > self.target_shape:\n",
    "            return tensor[:self.target_shape]\n",
    "        elif tensor.numel() < self.target_shape:\n",
    "            pad_size = self.target_shape - tensor.numel()\n",
    "            return torch.nn.functional.pad(tensor, (0, pad_size))\n",
    "        return tensor\n",
    "\n",
    "\n",
    "    def __len__(self):\n",
    "        return len(self.triplets)\n",
    "\n",
    "    def __getitem__(self, idx):\n",
    "        return self.triplets[idx]\n",
    "\n"
   ]
  },
  {
   "cell_type": "code",
   "execution_count": null,
   "id": "a96afae8",
   "metadata": {
    "vscode": {
     "languageId": "plaintext"
    }
   },
   "outputs": [],
   "source": [
    "class ResNetEmbedding(nn.Module):\n",
    "    def __init__(self, input_dim=4096, embedding_dim=512):\n",
    "        super(ResNetEmbedding, self).__init__()\n",
    "        self.fc_in = nn.Linear(input_dim, 3 * 16 * 16)\n",
    "        self.resnet = models.resnet18(pretrained=False)\n",
    "        self.resnet.conv1 = nn.Conv2d(3, 64, kernel_size=7, stride=2, padding=3, bias=False)\n",
    "        self.resnet.fc = nn.Linear(self.resnet.fc.in_features, embedding_dim)\n",
    "\n",
    "    def forward(self, x):\n",
    "        x = self.fc_in(x)\n",
    "        x = x.view(x.size(0), 3, 16, 16)\n",
    "        return self.resnet(x)\n"
   ]
  },
  {
   "cell_type": "code",
   "execution_count": null,
   "id": "e888106a",
   "metadata": {
    "vscode": {
     "languageId": "plaintext"
    }
   },
   "outputs": [],
   "source": [
    "dataset = TripletActivationDataset(non_hallucination_train_activations, hallucination_train_activations)\n",
    "loader = DataLoader(dataset, batch_size=16, shuffle=True)\n",
    "\n",
    "model = ResNetEmbedding().cuda()\n",
    "criterion = TripletMarginLoss(margin=1.0)\n",
    "optimizer = optim.Adam(model.parameters(), lr=1e-4)\n",
    "\n",
    "for epoch in range(10):\n",
    "    model.train()\n",
    "    for anchor, positive, negative in loader:\n",
    "        anchor, positive, negative = anchor.cuda(), positive.cuda(), negative.cuda()\n",
    "\n",
    "        anchor_emb = model(anchor)\n",
    "        positive_emb = model(positive)\n",
    "        negative_emb = model(negative)\n",
    "\n",
    "        loss = criterion(anchor_emb, positive_emb, negative_emb)\n",
    "\n",
    "        optimizer.zero_grad()\n",
    "        loss.backward()\n",
    "        optimizer.step()\n",
    "\n",
    "    print(f\"Epoch {epoch+1}, Loss: {loss.item():.4f}\")\n"
   ]
  },
  {
   "cell_type": "code",
   "execution_count": null,
   "id": "89fdfe7e",
   "metadata": {
    "vscode": {
     "languageId": "plaintext"
    }
   },
   "outputs": [],
   "source": [
    "test_normal = torch.load(\"./test_normal_activations.pt\", map_location=torch.device(\"cpu\"), weights_only=True)\n",
    "\n",
    "test_hall = pt2 = torch.load(\"./test_attack_activations.pt\", map_location=torch.device(\"cpu\"), weights_only=True)"
   ]
  },
  {
   "cell_type": "code",
   "execution_count": null,
   "id": "0c29137f",
   "metadata": {
    "vscode": {
     "languageId": "plaintext"
    }
   },
   "outputs": [],
   "source": [
    "import torch\n",
    "import numpy as np\n",
    "\n",
    "# ---------------------------\n",
    "# Step 1: Helper to extract tensors from nested triplet structure\n",
    "# ---------------------------\n",
    "def extract_all_embeddings(data, index=0):\n",
    "    \"\"\"\n",
    "    Flattens nested triplet structure and ensures uniform shape [4096].\n",
    "    Automatically handles batched entries.\n",
    "    \"\"\"\n",
    "    activations = []\n",
    "    for group in data:\n",
    "        for triplet_list in group:\n",
    "            for triplet in triplet_list:\n",
    "                act = triplet[index]  # Get anchor/positive/negative\n",
    "\n",
    "                if len(act.shape) == 2 and act.shape[0] > 1:\n",
    "                    # Batched entries like [16, 4096], split them\n",
    "                    for sub in act:\n",
    "                        activations.append(sub)\n",
    "                else:\n",
    "                    # Single entry like [1, 4096] or [4096]\n",
    "                    activations.append(act.squeeze(0) if act.shape[0] == 1 else act)\n",
    "\n",
    "    return torch.stack(activations).float().cuda()\n",
    "\n",
    "\n",
    "# ---------------------------\n",
    "# Step 2: Convert test data\n",
    "# ---------------------------\n",
    "\n",
    "test_normal_tensor = extract_all_embeddings(test_normal, index=0)  # anchor (normal)\n",
    "test_hall_tensor = extract_all_embeddings(test_hall, index=0)      # anchor (hallucination)\n",
    "\n",
    "# ---------------------------\n",
    "# Step 3: Compute embeddings for test data\n",
    "# ---------------------------\n",
    "\n",
    "model.eval()\n",
    "with torch.no_grad():\n",
    "    emb_normal = model(test_normal_tensor)\n",
    "    emb_hall = model(test_hall_tensor)\n",
    "\n"
   ]
  },
  {
   "cell_type": "code",
   "execution_count": null,
   "id": "03fe3d17",
   "metadata": {
    "vscode": {
     "languageId": "plaintext"
    }
   },
   "outputs": [],
   "source": [
    "# ---------------------------\n",
    "# Step 4: Compute training class centroids\n",
    "# ---------------------------\n",
    "\n",
    "with torch.no_grad():\n",
    "    normal_train_tensor = test_normal_tensor.float().cuda()\n",
    "    hall_train_tensor = test_hall_tensor.float().cuda()\n",
    "\n",
    "    normal_centroid = model(normal_train_tensor).mean(dim=0)\n",
    "    hall_centroid = model(hall_train_tensor).mean(dim=0)\n",
    "\n",
    "# ---------------------------\n",
    "# Step 5: Predict class based on nearest centroid\n",
    "# ---------------------------\n",
    "\n",
    "def predict_class(embedding, centroid_normal, centroid_hall):\n",
    "    dist_normal = torch.norm(embedding - centroid_normal, p=2, dim=1)\n",
    "    dist_hall = torch.norm(embedding - centroid_hall, p=2, dim=1)\n",
    "    return (dist_normal < dist_hall).long()  # 1 = normal, 0 = hallucination\n",
    "\n",
    "# Predict for both sets\n",
    "pred_normal = predict_class(emb_normal, normal_centroid, hall_centroid)  # Expected: 1\n",
    "pred_hall = predict_class(emb_hall, normal_centroid, hall_centroid)      # Expected: 0\n",
    "\n",
    "# Ground truth labels\n",
    "true_normal = torch.ones_like(pred_normal)\n",
    "true_hall = torch.zeros_like(pred_hall)\n",
    "\n",
    "# Combine predictions and labels\n",
    "y_pred = torch.cat([pred_normal, pred_hall])\n",
    "y_true = torch.cat([true_normal, true_hall])\n",
    "\n",
    "# ---------------------------\n",
    "# Step 6: Compute accuracy\n",
    "# ---------------------------\n",
    "\n",
    "accuracy = (y_pred == y_true).float().mean().item()\n",
    "print(f\"Test Accuracy: {accuracy * 100:.2f}%\")\n"
   ]
  },
  {
   "cell_type": "code",
   "execution_count": null,
   "id": "34e75d68",
   "metadata": {
    "vscode": {
     "languageId": "plaintext"
    }
   },
   "outputs": [],
   "source": [
    "# Assuming y_true and y_pred are 1D tensors of 0/1 labels\n",
    "\n",
    "# True positives, false positives, false negatives, true negatives\n",
    "TP = ((y_pred == 1) & (y_true == 1)).sum().item()\n",
    "FP = ((y_pred == 1) & (y_true == 0)).sum().item()\n",
    "FN = ((y_pred == 0) & (y_true == 1)).sum().item()\n",
    "TN = ((y_pred == 0) & (y_true == 0)).sum().item()\n",
    "\n",
    "# Precision = TP / (TP + FP)\n",
    "precision = TP / (TP + FP) if (TP + FP) > 0 else 0.0\n",
    "\n",
    "# Recall = TP / (TP + FN)\n",
    "recall = TP / (TP + FN) if (TP + FN) > 0 else 0.0\n",
    "\n",
    "# F1 score = 2 * (precision * recall) / (precision + recall)\n",
    "f1 = 2 * (precision * recall) / (precision + recall) if (precision + recall) > 0 else 0.0\n",
    "\n",
    "# Accuracy = (TP + TN) / Total\n",
    "accuracy = (TP + TN) / (TP + TN + FP + FN)\n",
    "\n",
    "print(f\"Test Accuracy: {accuracy * 100:.2f}%\")\n",
    "print(f\"Precision: {precision * 100:.2f}%\")\n",
    "print(f\"Recall: {recall * 100:.2f}%\")\n",
    "print(f\"F1 Score: {f1 * 100:.2f}%\")\n"
   ]
  }
 ],
 "metadata": {
  "language_info": {
   "name": "python"
  }
 },
 "nbformat": 4,
 "nbformat_minor": 5
}
